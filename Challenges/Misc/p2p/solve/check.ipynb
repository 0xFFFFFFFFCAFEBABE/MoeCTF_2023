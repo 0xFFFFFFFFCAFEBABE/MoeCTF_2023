{
 "cells": [
  {
   "cell_type": "code",
   "execution_count": 2,
   "metadata": {},
   "outputs": [
    {
     "name": "stdout",
     "output_type": "stream",
     "text": [
      "3acad96ee53545f8ad3c419c5b1965bea234cc6a\n",
      "d3ba653b9d29544b623902aa07074492793c7ad4\n",
      "b339e2547e1bb5c1e56c2aceab1f7cf5af93d13d\n",
      "0b9e3bfbf07f757582ee29767d2c566353380f89\n",
      "65131dba750fdcb715e3235107041de9c79671ae\n",
      "4dd6e892d925a7411cb1677b8b5d8fec6d9308ac\n"
     ]
    }
   ],
   "source": [
    "import hashlib\n",
    "flag = b\"p2p_iS_intereSting_2WPIB\"\n",
    "for x in range(6):\n",
    "    c = flag[4*x:4*x+4]+b\"\\0\"*16380\n",
    "    print(hashlib.sha1(c).hexdigest())"
   ]
  },
  {
   "cell_type": "code",
   "execution_count": null,
   "metadata": {},
   "outputs": [],
   "source": [
    "from hashlib import sha1\n",
    "from itertools import product\n",
    "chars = \"0123456789abcdefghijklmnopqrstuvwxyzABCDEFGHIJKLMNOPQRSTUVWXYZ@!_?\"\n",
    "for c in product(chars,repeat=4):\n",
    "    p = \"\".join(c).encode() + b\"\\0\"*16380\n",
    "    h = sha1(p).hexdigest()\n",
    "    if h == \"3acad96ee53545f8ad3c419c5b1965bea234cc6a\":\n",
    "        print(\"found\")"
   ]
  }
 ],
 "metadata": {
  "kernelspec": {
   "display_name": "venv",
   "language": "python",
   "name": "python3"
  },
  "language_info": {
   "codemirror_mode": {
    "name": "ipython",
    "version": 3
   },
   "file_extension": ".py",
   "mimetype": "text/x-python",
   "name": "python",
   "nbconvert_exporter": "python",
   "pygments_lexer": "ipython3",
   "version": "3.11.4"
  },
  "orig_nbformat": 4
 },
 "nbformat": 4,
 "nbformat_minor": 2
}
