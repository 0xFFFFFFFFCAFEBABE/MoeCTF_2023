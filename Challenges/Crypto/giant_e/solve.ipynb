{
 "cells": [
  {
   "cell_type": "code",
   "execution_count": 3,
   "metadata": {},
   "outputs": [],
   "source": [
    "from Crypto.Util.number import getPrime\n",
    "from gmpy2 import iroot\n",
    "from sympy import nextprime\n",
    "\n",
    "with open(\"flag.txt\",\"rb\") as fs:\n",
    "    flag = fs.read().strip()\n",
    "\n",
    "p = getPrime(1024)\n",
    "q = getPrime(1024)\n",
    "n = p * q\n",
    "phi = (p-1)*(q-1)\n",
    "d = nextprime(int(iroot(n,4)[0] // 4))\n",
    "e = pow(d,-1,phi)\n",
    "m = int.from_bytes(flag,\"big\")\n",
    "c = pow(m,e,n)\n"
   ]
  },
  {
   "cell_type": "code",
   "execution_count": 9,
   "metadata": {},
   "outputs": [],
   "source": [
    "def rational_to_contfrac(x,y):\n",
    "    '''\n",
    "    Converts a rational x/y fraction into\n",
    "    a list of partial quotients [a0, ..., an]\n",
    "    '''\n",
    "    a = x//y\n",
    "    pquotients = [a]\n",
    "    while a * y != x:\n",
    "        x,y = y,x-a*y\n",
    "        a = x//y\n",
    "        pquotients.append(a)\n",
    "    return pquotients\n",
    "\n",
    "#TODO: efficient method that calculates convergents on-the-go, without doing partial quotients first\n",
    "def convergents_from_contfrac(frac):\n",
    "    '''\n",
    "    computes the list of convergents\n",
    "    using the list of partial quotients\n",
    "    '''\n",
    "    convs = [];\n",
    "    for i in range(len(frac)):\n",
    "        convs.append(contfrac_to_rational(frac[0:i]))\n",
    "    return convs\n",
    "\n",
    "def contfrac_to_rational (frac):\n",
    "    '''Converts a finite continued fraction [a0, ..., an]\n",
    "     to an x/y rational.\n",
    "     '''\n",
    "    if len(frac) == 0:\n",
    "        return (0,1)\n",
    "    num = frac[-1]\n",
    "    denom = 1\n",
    "    for _ in range(-2,-len(frac)-1,-1):\n",
    "        num, denom = frac[_]*num+denom, num\n",
    "    return (num,denom)\n",
    "\n",
    "def hack_RSA(e,n):\n",
    "    '''\n",
    "    Finds d knowing (e,n)\n",
    "    applying the Wiener continued fraction attack\n",
    "    '''\n",
    "    frac = rational_to_contfrac(e, n)\n",
    "    convergents = convergents_from_contfrac(frac)\n",
    "    \n",
    "    for (k,d) in convergents:\n",
    "        #check if d is actually the key\n",
    "        if k!=0 and (e*d-1)%k == 0:\n",
    "            phi = (e*d-1)//k\n",
    "            s = n - phi + 1\n",
    "            # check if the equation x^2 - s*x + n = 0\n",
    "            # has integer roots\n",
    "            discr = s*s - 4*n\n",
    "            if(discr>=0):\n",
    "                r,t = iroot(discr,2)\n",
    "                if t and (s+r)%2==0:\n",
    "                    print(\"Hacked!\")\n",
    "                    return d"
   ]
  },
  {
   "cell_type": "code",
   "execution_count": 14,
   "metadata": {},
   "outputs": [
    {
     "name": "stdout",
     "output_type": "stream",
     "text": [
      "Hacked!\n"
     ]
    }
   ],
   "source": [
    "assert hack_RSA(e,n) == d\n",
    "assert pow(c,d,n) == m"
   ]
  },
  {
   "cell_type": "code",
   "execution_count": 13,
   "metadata": {},
   "outputs": [
    {
     "data": {
      "text/plain": [
       "'0xbaa70ba4c29eb1e6bb3458827540fce84d40e1c966db73c0a39e4f9f40e975c42e02971dab385be27bd2b0687e2476894845cc46e55d9747a5be5ca9d925931ca82b0489e39724ea814800eb3c0ea40d89ebe7fe377f8d3f431a68d209e7a149851c06a4e67db7c99fcfd9ec19496f29d59bb186feb44a36fe344f11d047b9435a1c47fa2f8ed72f59403ebb0e439738fd550a7684247ab7da64311690f461e6dce03bf2fcd55345948a3b537087f07cd680d7461d326690bf21e39dff30268cb33f86eeceff412cd63a38f7110805d337dcad25e6f7e3728b53ca722b695b0d9db37361b5b63213af50dd69ee8b3cf2085f845d7932c08b27bf638e98497239'"
      ]
     },
     "execution_count": 13,
     "metadata": {},
     "output_type": "execute_result"
    }
   ],
   "source": [
    "hex(n)"
   ]
  }
 ],
 "metadata": {
  "kernelspec": {
   "display_name": "venv",
   "language": "python",
   "name": "python3"
  },
  "language_info": {
   "codemirror_mode": {
    "name": "ipython",
    "version": 3
   },
   "file_extension": ".py",
   "mimetype": "text/x-python",
   "name": "python",
   "nbconvert_exporter": "python",
   "pygments_lexer": "ipython3",
   "version": "3.11.4"
  },
  "orig_nbformat": 4
 },
 "nbformat": 4,
 "nbformat_minor": 2
}
