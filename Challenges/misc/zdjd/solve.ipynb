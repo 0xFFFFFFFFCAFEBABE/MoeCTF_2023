{
 "cells": [
  {
   "cell_type": "code",
   "execution_count": 5,
   "metadata": {},
   "outputs": [],
   "source": [
    "c = 0xc2c83b1167883c5f9684d2fbbedc597be7811337d704e6ae6d800a9f99650a7ccf33576302227e6463235de0654f4c23b41b917f79b849a8bf95116b62c459cff33a039d7c2c70020545261375800a78a79af5278e8515e2a0822af0719572eff6a88e129492ca21\n",
    "k = 0x57e55c126f1557b3\n",
    "iv = 0x67e9fca0871f9834\n",
    "\n",
    "from Crypto.Cipher.Blowfish import *\n",
    "from Crypto.Util.number import long_to_bytes"
   ]
  },
  {
   "cell_type": "code",
   "execution_count": 7,
   "metadata": {},
   "outputs": [
    {
     "data": {
      "text/plain": [
       "b'bW9lY3Rme3dvd195b3VfYVJlX3RoZV9tYXN0ZVJfb2ZfWnVuZHVqaWFkdV85MldQSUJ1bmc5MldQSUJ1bmc5P1dQSUJ1bmd9\\x08\\x08\\x08\\x08\\x08\\x08\\x08\\x08'"
      ]
     },
     "execution_count": 7,
     "metadata": {},
     "output_type": "execute_result"
    }
   ],
   "source": [
    "new(long_to_bytes(k),MODE_CBC,long_to_bytes(iv)).decrypt(long_to_bytes(c))"
   ]
  }
 ],
 "metadata": {
  "kernelspec": {
   "display_name": "venv",
   "language": "python",
   "name": "python3"
  },
  "language_info": {
   "codemirror_mode": {
    "name": "ipython",
    "version": 3
   },
   "file_extension": ".py",
   "mimetype": "text/x-python",
   "name": "python",
   "nbconvert_exporter": "python",
   "pygments_lexer": "ipython3",
   "version": "3.11.4"
  },
  "orig_nbformat": 4
 },
 "nbformat": 4,
 "nbformat_minor": 2
}
