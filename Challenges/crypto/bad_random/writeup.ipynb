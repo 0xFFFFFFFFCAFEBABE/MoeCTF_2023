{
 "cells": [
  {
   "cell_type": "code",
   "execution_count": 1,
   "metadata": {},
   "outputs": [],
   "source": [
    "import random\n",
    "class LCG:\n",
    "    def set_params(self):\n",
    "        self.m = random.randint(10000, 20000)\n",
    "        self.a = random.randint(10000, 20000)\n",
    "        self.c = random.randint(1, self.a-1)\n",
    "        self.x = random.randint(0, self.m-1)\n",
    "\n",
    "    def get_cycle(self):\n",
    "        x0 = self.x\n",
    "        s = set()\n",
    "        while (t := self()) not in s:\n",
    "            s.add(t)\n",
    "        self.x = x0\n",
    "        return len(s)\n",
    "\n",
    "    def __init__(self):\n",
    "        self.set_params()\n",
    "        while (c := self.get_cycle()) < 100:\n",
    "            self.set_params()\n",
    "\n",
    "    def __call__(self):\n",
    "        self.x = (self.a * self.x + self.c) % self.m\n",
    "        return self.x"
   ]
  },
  {
   "cell_type": "code",
   "execution_count": 1,
   "metadata": {},
   "outputs": [],
   "source": [
    "from math import gcd\n",
    "def gcd_all(*args):\n",
    "    d = args[0]\n",
    "    for i in args[1:]:\n",
    "        d = gcd(d,i)\n",
    "    return d\n",
    "def solve_m(x_):\n",
    "    t_ = [x_[i+1] - x_[i] for i in range(len(x_)-1)] \n",
    "    m_ = [t_[i+1] * t_[i-1] - t_[i] ** 2 for i in range(1,len(t_)-1)]\n",
    "    return gcd_all(*m_)\n",
    "def solve_a(x1,x2,x3,m):\n",
    "    return ((x3-x2) * pow(x2-x1,-1,m))%m\n",
    "def solve_c(x1,x2,a,m):\n",
    "    return (x2-a*x1)%m\n",
    "\n",
    "from Crypto.Util.number import sieve_base\n",
    "def fast_factor(num):\n",
    "    factors = []\n",
    "    for p in sieve_base:\n",
    "        while num % p == 0:\n",
    "            factors.append(p)\n",
    "            num //= p\n",
    "        if num == 1:\n",
    "            break\n",
    "    return factors,num"
   ]
  },
  {
   "cell_type": "code",
   "execution_count": 2,
   "metadata": {},
   "outputs": [
    {
     "name": "stdout",
     "output_type": "stream",
     "text": [
      "Nmst\n"
     ]
    }
   ],
   "source": [
    "from string import ascii_letters\n",
    "from hashlib import md5\n",
    "from itertools import product\n",
    "target = \"6d184990b5cbddc68bebabeae2c0095e\"\n",
    "salt = \"XXXX+rPxk\"[-4:]\n",
    "for x in product(ascii_letters,repeat=4):\n",
    "    s = \"\".join(x)+salt\n",
    "    h = md5(s.encode()).hexdigest()\n",
    "    if h == target:\n",
    "        print(s[:-4])\n",
    "        break\n"
   ]
  },
  {
   "cell_type": "code",
   "execution_count": 45,
   "metadata": {},
   "outputs": [
    {
     "name": "stdout",
     "output_type": "stream",
     "text": [
      "17373\n"
     ]
    }
   ],
   "source": [
    "xs = [5124,9694,12564,5965,2391]\n",
    "m_ = solve_m(xs)\n",
    "print(m_)\n",
    "\n",
    "m=m_"
   ]
  },
  {
   "cell_type": "code",
   "execution_count": 46,
   "metadata": {},
   "outputs": [
    {
     "name": "stdout",
     "output_type": "stream",
     "text": [
      "17373\n"
     ]
    },
    {
     "data": {
      "text/plain": [
       "([3, 5791], 1)"
      ]
     },
     "execution_count": 46,
     "metadata": {},
     "output_type": "execute_result"
    }
   ],
   "source": [
    "print(m)\n",
    "fast_factor(m)"
   ]
  },
  {
   "cell_type": "code",
   "execution_count": 47,
   "metadata": {},
   "outputs": [
    {
     "name": "stdout",
     "output_type": "stream",
     "text": [
      "15815\n",
      "1306\n"
     ]
    }
   ],
   "source": [
    "a = solve_a(*xs[:3],m)\n",
    "print(a)\n",
    "c = solve_c(*xs[:2],a,m)\n",
    "print(c)"
   ]
  },
  {
   "cell_type": "code",
   "execution_count": 21,
   "metadata": {},
   "outputs": [],
   "source": [
    "instance = LCG()\n",
    "instance.m = m\n",
    "instance.a = a\n",
    "instance.c = c\n",
    "instance.x = xs[-1]"
   ]
  },
  {
   "cell_type": "code",
   "execution_count": 24,
   "metadata": {},
   "outputs": [
    {
     "data": {
      "text/plain": [
       "634"
      ]
     },
     "execution_count": 24,
     "metadata": {},
     "output_type": "execute_result"
    }
   ],
   "source": [
    "instance()"
   ]
  }
 ],
 "metadata": {
  "kernelspec": {
   "display_name": "venv",
   "language": "python",
   "name": "python3"
  },
  "language_info": {
   "codemirror_mode": {
    "name": "ipython",
    "version": 3
   },
   "file_extension": ".py",
   "mimetype": "text/x-python",
   "name": "python",
   "nbconvert_exporter": "python",
   "pygments_lexer": "ipython3",
   "version": "3.11.4"
  },
  "orig_nbformat": 4
 },
 "nbformat": 4,
 "nbformat_minor": 2
}
